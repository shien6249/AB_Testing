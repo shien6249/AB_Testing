{
 "cells": [
  {
   "cell_type": "markdown",
   "metadata": {},
   "source": [
    "# A/B Testing"
   ]
  },
  {
   "cell_type": "code",
   "execution_count": 2,
   "metadata": {},
   "outputs": [],
   "source": [
    "import pandas as pd\n",
    "import numpy as np"
   ]
  },
  {
   "cell_type": "markdown",
   "metadata": {},
   "source": [
    "Read the dataset with baseline value."
   ]
  },
  {
   "cell_type": "code",
   "execution_count": 3,
   "metadata": {},
   "outputs": [],
   "source": [
    "df = pd.read_csv('Baseline_Values.csv', index_col=False, header = None, names =['Metric','Baseline_Value'] )"
   ]
  },
  {
   "cell_type": "code",
   "execution_count": 4,
   "metadata": {},
   "outputs": [
    {
     "data": {
      "text/html": [
       "<div>\n",
       "<style scoped>\n",
       "    .dataframe tbody tr th:only-of-type {\n",
       "        vertical-align: middle;\n",
       "    }\n",
       "\n",
       "    .dataframe tbody tr th {\n",
       "        vertical-align: top;\n",
       "    }\n",
       "\n",
       "    .dataframe thead th {\n",
       "        text-align: right;\n",
       "    }\n",
       "</style>\n",
       "<table border=\"1\" class=\"dataframe\">\n",
       "  <thead>\n",
       "    <tr style=\"text-align: right;\">\n",
       "      <th></th>\n",
       "      <th>Metric</th>\n",
       "      <th>Baseline_Value</th>\n",
       "    </tr>\n",
       "  </thead>\n",
       "  <tbody>\n",
       "    <tr>\n",
       "      <th>0</th>\n",
       "      <td>Unique cookies to view page per day:</td>\n",
       "      <td>40000.000000</td>\n",
       "    </tr>\n",
       "    <tr>\n",
       "      <th>1</th>\n",
       "      <td>Unique cookies to click \"Start free trial\" per...</td>\n",
       "      <td>3200.000000</td>\n",
       "    </tr>\n",
       "    <tr>\n",
       "      <th>2</th>\n",
       "      <td>Enrollments per day:</td>\n",
       "      <td>660.000000</td>\n",
       "    </tr>\n",
       "    <tr>\n",
       "      <th>3</th>\n",
       "      <td>Click-through-probability on \"Start free trial\":</td>\n",
       "      <td>0.080000</td>\n",
       "    </tr>\n",
       "    <tr>\n",
       "      <th>4</th>\n",
       "      <td>Probability of enrolling, given click:</td>\n",
       "      <td>0.206250</td>\n",
       "    </tr>\n",
       "    <tr>\n",
       "      <th>5</th>\n",
       "      <td>Probability of payment, given enroll:</td>\n",
       "      <td>0.530000</td>\n",
       "    </tr>\n",
       "    <tr>\n",
       "      <th>6</th>\n",
       "      <td>Probability of payment, given click</td>\n",
       "      <td>0.109313</td>\n",
       "    </tr>\n",
       "  </tbody>\n",
       "</table>\n",
       "</div>"
      ],
      "text/plain": [
       "                                              Metric  Baseline_Value\n",
       "0               Unique cookies to view page per day:    40000.000000\n",
       "1  Unique cookies to click \"Start free trial\" per...     3200.000000\n",
       "2                               Enrollments per day:      660.000000\n",
       "3   Click-through-probability on \"Start free trial\":        0.080000\n",
       "4             Probability of enrolling, given click:        0.206250\n",
       "5              Probability of payment, given enroll:        0.530000\n",
       "6                Probability of payment, given click        0.109313"
      ]
     },
     "execution_count": 4,
     "metadata": {},
     "output_type": "execute_result"
    }
   ],
   "source": [
    "df"
   ]
  },
  {
   "cell_type": "markdown",
   "metadata": {},
   "source": [
    "## Experiment"
   ]
  },
  {
   "cell_type": "markdown",
   "metadata": {},
   "source": [
    "Udacity tested a change where if the student clicked \"start free trial\", they\n",
    "were asked how much time they had available to devote to the course. \n",
    "- If the student indicated 5 or more hours per week, they would be taken through the checkout process as usual. \n",
    "- If they indicated fewer than 5 hours per week, a message would appear indicating that Udacity courses usually require a greater time commitment for successful completion, and suggesting that the student might like to access the course materials for free.\n",
    "At this point, the student would have the option to continue enrolling in the free trial, or access the course materials for free instead.\n"
   ]
  },
  {
   "cell_type": "markdown",
   "metadata": {},
   "source": [
    "## Hypothesis"
   ]
  },
  {
   "cell_type": "markdown",
   "metadata": {},
   "source": [
    "<i>H0: This change does not significantly reduce the number of students to continue past the free trial and eventually complete the course.<br><br>\n",
    "H1: This change reduces the number of free trial cancellation.</i>\n",
    "<br><br>\n",
    "If we can reject the null hypothesis, Udacity could improve the overall student experience and improve coaches' capacity to support students who are likely to complete the course.\n"
   ]
  },
  {
   "cell_type": "markdown",
   "metadata": {},
   "source": [
    "## Unit of Diversion"
   ]
  },
  {
   "cell_type": "markdown",
   "metadata": {},
   "source": [
    "- <b>Cookie</b>\n",
    "<br>\n",
    "Although if the student enrolls in the free trial, they are tracked by user id from that point forward. The same user id cannot enroll in the free trial twice. For users that do not enroll, their user id is not tracked in the experiment, even if they were signed in when they visited the course overview page."
   ]
  },
  {
   "cell_type": "markdown",
   "metadata": {},
   "source": [
    "## Decide Invariant Maetrics"
   ]
  },
  {
   "cell_type": "markdown",
   "metadata": {},
   "source": [
    "- <b>Number of cookies</b>: That is, number of unique cookies to view the course overview page.<br>(dmin=3000)\n",
    "- <b>Click through probability</b>: That is, number of unique cookies to click the \"Start free trial\" button divided by number of unique cookies to view the course overview page.<br>(dmin=0.01)"
   ]
  },
  {
   "cell_type": "markdown",
   "metadata": {},
   "source": [
    "## Decide Evaluation Metrics"
   ]
  },
  {
   "cell_type": "markdown",
   "metadata": {},
   "source": [
    "- <b>Gross conversion</b>: That is, number of userids to complete checkout and enroll in the free trial divided by number of unique cookies to click the \"Start free trial\" button.<br>(dmin=0.01)\n",
    "- <b>Retention</b>: That is, number of userids to remain enrolled past the 14 day boundary (and thus make at least one payment) divided by number of user ids to complete checkout.<br>(dmin=0.01)\n",
    "- <b>Net conversion</b>: That is, number of userids to remain enrolled past the 14 day boundary (and thus make at least one payment) divided by the number of unique cookies to click the \"Start free trial\" button.<br>(dmin= 0.0075)"
   ]
  },
  {
   "cell_type": "markdown",
   "metadata": {},
   "source": [
    "## Sample Size"
   ]
  },
  {
   "cell_type": "markdown",
   "metadata": {},
   "source": [
    "5000 sample size cookies visting the course overview page."
   ]
  },
  {
   "cell_type": "code",
   "execution_count": 5,
   "metadata": {},
   "outputs": [],
   "source": [
    "df['Sample_Value'] = df[['Baseline_Value']]/8"
   ]
  },
  {
   "cell_type": "code",
   "execution_count": 6,
   "metadata": {},
   "outputs": [],
   "source": [
    "df.iloc[3,2] = df.iloc[1,2] / df.iloc[0,2]\n",
    "df.iloc[4,2] = df.iloc[2,2] / df.iloc[1,2]\n",
    "df.iloc[5,2] = 0.53\n",
    "df.iloc[6,2] = df.iloc[5,2] * df.iloc[4,2]"
   ]
  },
  {
   "cell_type": "code",
   "execution_count": 7,
   "metadata": {},
   "outputs": [
    {
     "data": {
      "text/html": [
       "<div>\n",
       "<style scoped>\n",
       "    .dataframe tbody tr th:only-of-type {\n",
       "        vertical-align: middle;\n",
       "    }\n",
       "\n",
       "    .dataframe tbody tr th {\n",
       "        vertical-align: top;\n",
       "    }\n",
       "\n",
       "    .dataframe thead th {\n",
       "        text-align: right;\n",
       "    }\n",
       "</style>\n",
       "<table border=\"1\" class=\"dataframe\">\n",
       "  <thead>\n",
       "    <tr style=\"text-align: right;\">\n",
       "      <th></th>\n",
       "      <th>Metric</th>\n",
       "      <th>Baseline_Value</th>\n",
       "      <th>Sample_Value</th>\n",
       "    </tr>\n",
       "  </thead>\n",
       "  <tbody>\n",
       "    <tr>\n",
       "      <th>0</th>\n",
       "      <td>Unique cookies to view page per day:</td>\n",
       "      <td>40000.000000</td>\n",
       "      <td>5000.000000</td>\n",
       "    </tr>\n",
       "    <tr>\n",
       "      <th>1</th>\n",
       "      <td>Unique cookies to click \"Start free trial\" per...</td>\n",
       "      <td>3200.000000</td>\n",
       "      <td>400.000000</td>\n",
       "    </tr>\n",
       "    <tr>\n",
       "      <th>2</th>\n",
       "      <td>Enrollments per day:</td>\n",
       "      <td>660.000000</td>\n",
       "      <td>82.500000</td>\n",
       "    </tr>\n",
       "    <tr>\n",
       "      <th>3</th>\n",
       "      <td>Click-through-probability on \"Start free trial\":</td>\n",
       "      <td>0.080000</td>\n",
       "      <td>0.080000</td>\n",
       "    </tr>\n",
       "    <tr>\n",
       "      <th>4</th>\n",
       "      <td>Probability of enrolling, given click:</td>\n",
       "      <td>0.206250</td>\n",
       "      <td>0.206250</td>\n",
       "    </tr>\n",
       "    <tr>\n",
       "      <th>5</th>\n",
       "      <td>Probability of payment, given enroll:</td>\n",
       "      <td>0.530000</td>\n",
       "      <td>0.530000</td>\n",
       "    </tr>\n",
       "    <tr>\n",
       "      <th>6</th>\n",
       "      <td>Probability of payment, given click</td>\n",
       "      <td>0.109313</td>\n",
       "      <td>0.109312</td>\n",
       "    </tr>\n",
       "  </tbody>\n",
       "</table>\n",
       "</div>"
      ],
      "text/plain": [
       "                                              Metric  Baseline_Value  \\\n",
       "0               Unique cookies to view page per day:    40000.000000   \n",
       "1  Unique cookies to click \"Start free trial\" per...     3200.000000   \n",
       "2                               Enrollments per day:      660.000000   \n",
       "3   Click-through-probability on \"Start free trial\":        0.080000   \n",
       "4             Probability of enrolling, given click:        0.206250   \n",
       "5              Probability of payment, given enroll:        0.530000   \n",
       "6                Probability of payment, given click        0.109313   \n",
       "\n",
       "   Sample_Value  \n",
       "0   5000.000000  \n",
       "1    400.000000  \n",
       "2     82.500000  \n",
       "3      0.080000  \n",
       "4      0.206250  \n",
       "5      0.530000  \n",
       "6      0.109312  "
      ]
     },
     "execution_count": 7,
     "metadata": {},
     "output_type": "execute_result"
    }
   ],
   "source": [
    "df"
   ]
  },
  {
   "cell_type": "markdown",
   "metadata": {},
   "source": [
    "## Calculate Standard Deviation"
   ]
  },
  {
   "cell_type": "markdown",
   "metadata": {},
   "source": [
    "Make an analytic estimate of each evaluation metrics' standard deviation and round the estimate to 4 decimal places."
   ]
  },
  {
   "cell_type": "code",
   "execution_count": 8,
   "metadata": {},
   "outputs": [],
   "source": [
    "P1 = df.iloc[4,2]\n",
    "P2 = df.iloc[5,2]\n",
    "P3 = df.iloc[6,2]\n",
    "Click_Count = df.iloc[1,2]\n",
    "Enroll_Count = df.iloc[2,2]"
   ]
  },
  {
   "cell_type": "code",
   "execution_count": 9,
   "metadata": {},
   "outputs": [
    {
     "name": "stdout",
     "output_type": "stream",
     "text": [
      "The Standard Deviation of Gross conversion is 0.0202.\n"
     ]
    }
   ],
   "source": [
    "SD1 = round(np.sqrt((P1*(1-P1))/Click_Count ),4)\n",
    "print('The Standard Deviation of Gross conversion is {}.'.format(SD1))"
   ]
  },
  {
   "cell_type": "code",
   "execution_count": 10,
   "metadata": {},
   "outputs": [
    {
     "name": "stdout",
     "output_type": "stream",
     "text": [
      "The Standard Deviation of Probability of Retension is 0.0549.\n"
     ]
    }
   ],
   "source": [
    "SD2 = round(np.sqrt((P2*(1-P2))/Enroll_Count ),4)\n",
    "print('The Standard Deviation of Probability of Retension is {}.'.format(SD2))"
   ]
  },
  {
   "cell_type": "code",
   "execution_count": 11,
   "metadata": {},
   "outputs": [
    {
     "name": "stdout",
     "output_type": "stream",
     "text": [
      "The Standard Deviation of Net conversion is 0.0156.\n"
     ]
    }
   ],
   "source": [
    "SD3 = round(np.sqrt((P3*(1-P3))/Click_Count ),4)\n",
    "print('The Standard Deviation of Net conversion is {}.'.format(SD3))"
   ]
  },
  {
   "cell_type": "markdown",
   "metadata": {},
   "source": [
    "## How many pageviews do we need?"
   ]
  },
  {
   "cell_type": "markdown",
   "metadata": {},
   "source": [
    "Use alpha = 0.05 and beta = 0.2. Round it to the nearest integer."
   ]
  },
  {
   "cell_type": "markdown",
   "metadata": {},
   "source": [
    "We use the online sample size calculator (https://www.evanmiller.org/ab-testing/sample-size.html) to calculate sample size fro each evalution metrics."
   ]
  },
  {
   "cell_type": "markdown",
   "metadata": {},
   "source": [
    "- <b>Gross conversion</b>: \n",
    "    - Baseline conversion rate: 20.625%\n",
    "    - Minimum Detectable Effect: 1%\n",
    "    - Sample size: 25,835\n",
    "<br>\n",
    "- <b>Retention</b>: \n",
    "    - Baseline conversion rate: 53%\n",
    "    - Minimum Detectable Effect: 1%\n",
    "    - Sample size: 39,115\n",
    "<br>\n",
    "- <b>Net conversion</b>: \n",
    "    - Baseline conversion rate: 10.9312%\n",
    "    - Minimum Detectable Effect: 0.75%\n",
    "    - Sample size: 27,413"
   ]
  },
  {
   "cell_type": "markdown",
   "metadata": {},
   "source": [
    "We need 25,835, 39,115, 27,413 in each group. While we have 2 groups, control group and experiemnt group, we need to multiply the above sample size by 2 times."
   ]
  },
  {
   "cell_type": "markdown",
   "metadata": {},
   "source": [
    "So here we have:"
   ]
  },
  {
   "cell_type": "code",
   "execution_count": 12,
   "metadata": {},
   "outputs": [
    {
     "name": "stdout",
     "output_type": "stream",
     "text": [
      "The sample sizes of each metrics are 51670, 78230, 54826.\n"
     ]
    }
   ],
   "source": [
    "Size_GC = 25835 * 2\n",
    "Size_R = 39115 * 2\n",
    "Size_NC = 27413 * 2\n",
    "print('The sample sizes of each metrics are {}, {}, {}.'.format(Size_GC, Size_R,Size_NC))"
   ]
  },
  {
   "cell_type": "markdown",
   "metadata": {},
   "source": [
    "In each pageview:\n",
    "- The number of clicks of Gross conversion: clicks / pageviews\n",
    "- The number of enrollments of of Retention: enrollments / pageviews\n",
    "- The number of clicks of of Net conversion: clicks / pageviews"
   ]
  },
  {
   "cell_type": "markdown",
   "metadata": {},
   "source": [
    "We can conclude the total pageview needed to satisfy the experiment."
   ]
  },
  {
   "cell_type": "code",
   "execution_count": 13,
   "metadata": {},
   "outputs": [
    {
     "name": "stdout",
     "output_type": "stream",
     "text": [
      "The total pageview needed for each metrics are 645875.0, 4741212.121212121, 685325.0.\n"
     ]
    }
   ],
   "source": [
    "pageviews = df.iloc[0,2]\n",
    "pageviews_GC = Size_GC / (Click_Count / pageviews)\n",
    "pageviews_R = Size_R / (Enroll_Count / pageviews)\n",
    "pageviews_NC = Size_NC / (Click_Count / pageviews)\n",
    "print('The total pageview needed for each metrics are {}, {}, {}.'.format(pageviews_GC, pageviews_R,pageviews_NC))"
   ]
  },
  {
   "cell_type": "markdown",
   "metadata": {},
   "source": [
    "Here we will use the maximum pageview number which is 4741212."
   ]
  },
  {
   "cell_type": "markdown",
   "metadata": {},
   "source": [
    "## Calculate Standard Error"
   ]
  },
  {
   "cell_type": "markdown",
   "metadata": {},
   "source": [
    "SE = SD / square root of N"
   ]
  },
  {
   "cell_type": "code",
   "execution_count": 14,
   "metadata": {},
   "outputs": [
    {
     "name": "stdout",
     "output_type": "stream",
     "text": [
      "The margin error for each metrics are 0.00017328730599779342, 0.0003827544870795402, 0.00012991698367107265.\n"
     ]
    }
   ],
   "source": [
    "SE1 = SD1 / Size_GC**0.5\n",
    "SE2 = SD2 / Size_R**0.5\n",
    "SE3 = SD3 / Size_NC**0.5\n",
    "\n",
    "m1 = SE1 * 1.95\n",
    "m2 = SE2 * 1.95\n",
    "m3 = SE3 * 1.95\n",
    "\n",
    "print('The margin error for each metrics are {}, {}, {}.'.format(m1, m2, m3))"
   ]
  },
  {
   "cell_type": "markdown",
   "metadata": {},
   "source": [
    "They all include 0"
   ]
  },
  {
   "cell_type": "markdown",
   "metadata": {},
   "source": [
    "## Choosing Duration and Exposure"
   ]
  },
  {
   "cell_type": "markdown",
   "metadata": {},
   "source": [
    "- Size of experiment: 4741212\n",
    "- Average traffic per day: 40000"
   ]
  },
  {
   "cell_type": "code",
   "execution_count": 15,
   "metadata": {},
   "outputs": [
    {
     "data": {
      "text/plain": [
       "118.53030303030303"
      ]
     },
     "execution_count": 15,
     "metadata": {},
     "output_type": "execute_result"
    }
   ],
   "source": [
    "Duration = pageviews_R / 40000\n",
    "Duration"
   ]
  },
  {
   "cell_type": "markdown",
   "metadata": {},
   "source": [
    "With above result, if we need total 4741212 pageviews to run the experiment, it will take 119 days to run the experiment. However, running experiment should also condisder time cost, we can choose the number of second biggest number to run the experiment."
   ]
  },
  {
   "cell_type": "code",
   "execution_count": 16,
   "metadata": {},
   "outputs": [
    {
     "data": {
      "text/plain": [
       "17.133125"
      ]
     },
     "execution_count": 16,
     "metadata": {},
     "output_type": "execute_result"
    }
   ],
   "source": [
    "Duration = pageviews_NC / 40000\n",
    "Duration"
   ]
  },
  {
   "cell_type": "markdown",
   "metadata": {},
   "source": [
    "After changing the number of pageviews to the second biggest number, we got 18 days for experiment running. That makes sense."
   ]
  },
  {
   "cell_type": "markdown",
   "metadata": {},
   "source": [
    "## Sanity Checks"
   ]
  },
  {
   "cell_type": "markdown",
   "metadata": {},
   "source": [
    "For each metrics chosen as invariant metric, here we compute 95% confidence interval for the value we expect to observe. We will find out the upper bound, lower bound, and observed value."
   ]
  },
  {
   "cell_type": "markdown",
   "metadata": {},
   "source": [
    "Read the data with control and experiment result."
   ]
  },
  {
   "cell_type": "code",
   "execution_count": 5,
   "metadata": {},
   "outputs": [
    {
     "name": "stdout",
     "output_type": "stream",
     "text": [
      "Requirement already satisfied: openpyxl in /srv/conda/envs/notebook/lib/python3.7/site-packages (3.0.7)\n",
      "Requirement already satisfied: et-xmlfile in /srv/conda/envs/notebook/lib/python3.7/site-packages (from openpyxl) (1.1.0)\n"
     ]
    }
   ],
   "source": [
    "!pip install openpyxl"
   ]
  },
  {
   "cell_type": "code",
   "execution_count": 6,
   "metadata": {},
   "outputs": [],
   "source": [
    "df_result_control = pd.read_excel('Final_Project_Results.xlsx', sheet_name='Control')\n",
    "df_result_exp = pd.read_excel('Final_Project_Results.xlsx', sheet_name='Experiment')"
   ]
  },
  {
   "cell_type": "code",
   "execution_count": 7,
   "metadata": {},
   "outputs": [
    {
     "data": {
      "text/html": [
       "<div>\n",
       "<style scoped>\n",
       "    .dataframe tbody tr th:only-of-type {\n",
       "        vertical-align: middle;\n",
       "    }\n",
       "\n",
       "    .dataframe tbody tr th {\n",
       "        vertical-align: top;\n",
       "    }\n",
       "\n",
       "    .dataframe thead th {\n",
       "        text-align: right;\n",
       "    }\n",
       "</style>\n",
       "<table border=\"1\" class=\"dataframe\">\n",
       "  <thead>\n",
       "    <tr style=\"text-align: right;\">\n",
       "      <th></th>\n",
       "      <th>Date</th>\n",
       "      <th>Pageviews</th>\n",
       "      <th>Clicks</th>\n",
       "      <th>Enrollments</th>\n",
       "      <th>Payments</th>\n",
       "    </tr>\n",
       "  </thead>\n",
       "  <tbody>\n",
       "    <tr>\n",
       "      <th>0</th>\n",
       "      <td>Sat, Oct 11</td>\n",
       "      <td>7723.0</td>\n",
       "      <td>687.0</td>\n",
       "      <td>134.0</td>\n",
       "      <td>70.0</td>\n",
       "    </tr>\n",
       "    <tr>\n",
       "      <th>1</th>\n",
       "      <td>Sun, Oct 12</td>\n",
       "      <td>9102.0</td>\n",
       "      <td>779.0</td>\n",
       "      <td>147.0</td>\n",
       "      <td>70.0</td>\n",
       "    </tr>\n",
       "    <tr>\n",
       "      <th>2</th>\n",
       "      <td>Mon, Oct 13</td>\n",
       "      <td>10511.0</td>\n",
       "      <td>909.0</td>\n",
       "      <td>167.0</td>\n",
       "      <td>95.0</td>\n",
       "    </tr>\n",
       "    <tr>\n",
       "      <th>3</th>\n",
       "      <td>Tue, Oct 14</td>\n",
       "      <td>9871.0</td>\n",
       "      <td>836.0</td>\n",
       "      <td>156.0</td>\n",
       "      <td>105.0</td>\n",
       "    </tr>\n",
       "    <tr>\n",
       "      <th>4</th>\n",
       "      <td>Wed, Oct 15</td>\n",
       "      <td>10014.0</td>\n",
       "      <td>837.0</td>\n",
       "      <td>163.0</td>\n",
       "      <td>64.0</td>\n",
       "    </tr>\n",
       "  </tbody>\n",
       "</table>\n",
       "</div>"
      ],
      "text/plain": [
       "          Date  Pageviews  Clicks  Enrollments  Payments\n",
       "0  Sat, Oct 11     7723.0   687.0        134.0      70.0\n",
       "1  Sun, Oct 12     9102.0   779.0        147.0      70.0\n",
       "2  Mon, Oct 13    10511.0   909.0        167.0      95.0\n",
       "3  Tue, Oct 14     9871.0   836.0        156.0     105.0\n",
       "4  Wed, Oct 15    10014.0   837.0        163.0      64.0"
      ]
     },
     "execution_count": 7,
     "metadata": {},
     "output_type": "execute_result"
    }
   ],
   "source": [
    "df_result_control.head()"
   ]
  },
  {
   "cell_type": "markdown",
   "metadata": {},
   "source": [
    "Sum the values by groups."
   ]
  },
  {
   "cell_type": "code",
   "execution_count": 8,
   "metadata": {},
   "outputs": [],
   "source": [
    "df_result_control['Group'] = 'Control'\n",
    "df_result_exp['Group'] = 'Experiment'"
   ]
  },
  {
   "cell_type": "code",
   "execution_count": 9,
   "metadata": {},
   "outputs": [],
   "source": [
    "df_result_control = df_result_control[['Group', 'Pageviews','Clicks', 'Enrollments', 'Payments']].groupby('Group', as_index=False).sum()\n",
    "df_result_exp = df_result_exp[['Group', 'Pageviews','Clicks', 'Enrollments', 'Payments']].groupby('Group', as_index=False).sum()"
   ]
  },
  {
   "cell_type": "markdown",
   "metadata": {},
   "source": [
    "Union the control data and experiment data."
   ]
  },
  {
   "cell_type": "code",
   "execution_count": 10,
   "metadata": {},
   "outputs": [
    {
     "data": {
      "text/html": [
       "<div>\n",
       "<style scoped>\n",
       "    .dataframe tbody tr th:only-of-type {\n",
       "        vertical-align: middle;\n",
       "    }\n",
       "\n",
       "    .dataframe tbody tr th {\n",
       "        vertical-align: top;\n",
       "    }\n",
       "\n",
       "    .dataframe thead th {\n",
       "        text-align: right;\n",
       "    }\n",
       "</style>\n",
       "<table border=\"1\" class=\"dataframe\">\n",
       "  <thead>\n",
       "    <tr style=\"text-align: right;\">\n",
       "      <th></th>\n",
       "      <th>Group</th>\n",
       "      <th>Pageviews</th>\n",
       "      <th>Clicks</th>\n",
       "      <th>Enrollments</th>\n",
       "      <th>Payments</th>\n",
       "    </tr>\n",
       "  </thead>\n",
       "  <tbody>\n",
       "    <tr>\n",
       "      <th>0</th>\n",
       "      <td>Control</td>\n",
       "      <td>345543.0</td>\n",
       "      <td>28378.0</td>\n",
       "      <td>3785.0</td>\n",
       "      <td>2033.0</td>\n",
       "    </tr>\n",
       "    <tr>\n",
       "      <th>1</th>\n",
       "      <td>Experiment</td>\n",
       "      <td>344660.0</td>\n",
       "      <td>28325.0</td>\n",
       "      <td>3423.0</td>\n",
       "      <td>1945.0</td>\n",
       "    </tr>\n",
       "  </tbody>\n",
       "</table>\n",
       "</div>"
      ],
      "text/plain": [
       "        Group  Pageviews   Clicks  Enrollments  Payments\n",
       "0     Control   345543.0  28378.0       3785.0    2033.0\n",
       "1  Experiment   344660.0  28325.0       3423.0    1945.0"
      ]
     },
     "execution_count": 10,
     "metadata": {},
     "output_type": "execute_result"
    }
   ],
   "source": [
    "df_result= pd.concat([df_result_control, df_result_exp], ignore_index=True)\n",
    "df_result"
   ]
  },
  {
   "cell_type": "markdown",
   "metadata": {},
   "source": [
    "We add a row summing up control group and experiment group as well."
   ]
  },
  {
   "cell_type": "code",
   "execution_count": 11,
   "metadata": {},
   "outputs": [
    {
     "data": {
      "text/html": [
       "<div>\n",
       "<style scoped>\n",
       "    .dataframe tbody tr th:only-of-type {\n",
       "        vertical-align: middle;\n",
       "    }\n",
       "\n",
       "    .dataframe tbody tr th {\n",
       "        vertical-align: top;\n",
       "    }\n",
       "\n",
       "    .dataframe thead th {\n",
       "        text-align: right;\n",
       "    }\n",
       "</style>\n",
       "<table border=\"1\" class=\"dataframe\">\n",
       "  <thead>\n",
       "    <tr style=\"text-align: right;\">\n",
       "      <th></th>\n",
       "      <th>Group</th>\n",
       "      <th>Pageviews</th>\n",
       "      <th>Clicks</th>\n",
       "      <th>Enrollments</th>\n",
       "      <th>Payments</th>\n",
       "    </tr>\n",
       "  </thead>\n",
       "  <tbody>\n",
       "    <tr>\n",
       "      <th>0</th>\n",
       "      <td>Control</td>\n",
       "      <td>345543.0</td>\n",
       "      <td>28378.0</td>\n",
       "      <td>3785.0</td>\n",
       "      <td>2033.0</td>\n",
       "    </tr>\n",
       "    <tr>\n",
       "      <th>1</th>\n",
       "      <td>Experiment</td>\n",
       "      <td>344660.0</td>\n",
       "      <td>28325.0</td>\n",
       "      <td>3423.0</td>\n",
       "      <td>1945.0</td>\n",
       "    </tr>\n",
       "    <tr>\n",
       "      <th>2</th>\n",
       "      <td>Total</td>\n",
       "      <td>690203.0</td>\n",
       "      <td>56703.0</td>\n",
       "      <td>7208.0</td>\n",
       "      <td>3978.0</td>\n",
       "    </tr>\n",
       "  </tbody>\n",
       "</table>\n",
       "</div>"
      ],
      "text/plain": [
       "        Group  Pageviews   Clicks  Enrollments  Payments\n",
       "0     Control   345543.0  28378.0       3785.0    2033.0\n",
       "1  Experiment   344660.0  28325.0       3423.0    1945.0\n",
       "2       Total   690203.0  56703.0       7208.0    3978.0"
      ]
     },
     "execution_count": 11,
     "metadata": {},
     "output_type": "execute_result"
    }
   ],
   "source": [
    "#df_result['Total'] = df.sum(axis=1)\n",
    "\n",
    "new_row = df_result.sum(axis=0)\n",
    "df_result = df_result.append([new_row], ignore_index=True)\n",
    "df_result.iloc[2,0] = 'Total'\n",
    "\n",
    "df_result"
   ]
  },
  {
   "cell_type": "markdown",
   "metadata": {},
   "source": [
    "Number of cookies (dmin=3000)\n",
    "Click through probability (dmin=0.01)"
   ]
  },
  {
   "cell_type": "markdown",
   "metadata": {},
   "source": [
    "1. Compute standard deviation of binominal."
   ]
  },
  {
   "cell_type": "code",
   "execution_count": 13,
   "metadata": {},
   "outputs": [
    {
     "data": {
      "text/html": [
       "<div>\n",
       "<style scoped>\n",
       "    .dataframe tbody tr th:only-of-type {\n",
       "        vertical-align: middle;\n",
       "    }\n",
       "\n",
       "    .dataframe tbody tr th {\n",
       "        vertical-align: top;\n",
       "    }\n",
       "\n",
       "    .dataframe thead th {\n",
       "        text-align: right;\n",
       "    }\n",
       "</style>\n",
       "<table border=\"1\" class=\"dataframe\">\n",
       "  <thead>\n",
       "    <tr style=\"text-align: right;\">\n",
       "      <th></th>\n",
       "      <th>Group</th>\n",
       "      <th>Pageviews</th>\n",
       "      <th>Clicks</th>\n",
       "      <th>Enrollments</th>\n",
       "      <th>Payments</th>\n",
       "    </tr>\n",
       "  </thead>\n",
       "  <tbody>\n",
       "    <tr>\n",
       "      <th>2</th>\n",
       "      <td>Total</td>\n",
       "      <td>690203.0</td>\n",
       "      <td>56703.0</td>\n",
       "      <td>7208.0</td>\n",
       "      <td>3978.0</td>\n",
       "    </tr>\n",
       "  </tbody>\n",
       "</table>\n",
       "</div>"
      ],
      "text/plain": [
       "   Group  Pageviews   Clicks  Enrollments  Payments\n",
       "2  Total   690203.0  56703.0       7208.0    3978.0"
      ]
     },
     "execution_count": 13,
     "metadata": {},
     "output_type": "execute_result"
    }
   ],
   "source": [
    "df_total = df_result.query('Group == \"Total\"')\n",
    "df_total"
   ]
  },
  {
   "cell_type": "code",
   "execution_count": 18,
   "metadata": {},
   "outputs": [
    {
     "name": "stdout",
     "output_type": "stream",
     "text": [
      "The SD of Number of cookies is 2    0.0006\n",
      "Name: Pageviews, dtype: float64.\n",
      "The SD of CTR is 2    0.0021\n",
      "Name: Clicks, dtype: float64.\n"
     ]
    }
   ],
   "source": [
    "p = 0.5\n",
    "pageviews = df_total['Pageviews']\n",
    "click = df_total['Clicks']\n",
    "\n",
    "#Number of cookies\n",
    "SD_cookie = round(np.sqrt((p*(1-p))/pageviews ),4)\n",
    "\n",
    "#Click through probability\n",
    "SD_CTR = round(np.sqrt((p*(1-p))/click ),4)\n",
    "\n",
    "print('The SD of Number of cookies is {}.'.format(round(SD_cookie, 4)))\n",
    "print('The SD of CTR is {}.'.format(round(SD_CTR, 4)))"
   ]
  },
  {
   "cell_type": "markdown",
   "metadata": {},
   "source": [
    "2. Multiply by Z score to get margin of error."
   ]
  },
  {
   "cell_type": "code",
   "execution_count": 17,
   "metadata": {},
   "outputs": [
    {
     "name": "stdout",
     "output_type": "stream",
     "text": [
      "The margin of error of Number of cookies is 2    0.0012\n",
      "Name: Pageviews, dtype: float64.\n",
      "The margin of error of CTR is 2    0.0041\n",
      "Name: Clicks, dtype: float64.\n"
     ]
    }
   ],
   "source": [
    "Zscore = 1.96\n",
    "\n",
    "#Number of cookies\n",
    "m_cookie = SD_cookie * Zscore\n",
    "\n",
    "#Click through probability\n",
    "m_CTR = SD_CTR * Zscore\n",
    "\n",
    "print('The margin of error of Number of cookies is {}.'.format(round(m_cookie, 4)))\n",
    "print('The margin of error of CTR is {}.'.format(round(m_CTR, 4)))"
   ]
  },
  {
   "cell_type": "markdown",
   "metadata": {},
   "source": [
    "3. Calculate confidence interval"
   ]
  },
  {
   "cell_type": "code",
   "execution_count": 19,
   "metadata": {},
   "outputs": [],
   "source": [
    "def ci(diff,marg_err):\n",
    "    ci_lower = diff - marg_err\n",
    "    ci_upper = diff + marg_err\n",
    "    \n",
    "    return ci_lower,ci_upper"
   ]
  },
  {
   "cell_type": "code",
   "execution_count": 22,
   "metadata": {},
   "outputs": [
    {
     "data": {
      "text/plain": [
       "(2    0.498824\n",
       " Name: Pageviews, dtype: float64,\n",
       " 2    0.501176\n",
       " Name: Pageviews, dtype: float64)"
      ]
     },
     "execution_count": 22,
     "metadata": {},
     "output_type": "execute_result"
    }
   ],
   "source": [
    "ci(0.5,m_cookie)"
   ]
  },
  {
   "cell_type": "code",
   "execution_count": 23,
   "metadata": {},
   "outputs": [
    {
     "data": {
      "text/plain": [
       "(2    0.495884\n",
       " Name: Clicks, dtype: float64,\n",
       " 2    0.504116\n",
       " Name: Clicks, dtype: float64)"
      ]
     },
     "execution_count": 23,
     "metadata": {},
     "output_type": "execute_result"
    }
   ],
   "source": [
    "ci(0.5,m_CTR)"
   ]
  },
  {
   "cell_type": "code",
   "execution_count": 25,
   "metadata": {},
   "outputs": [
    {
     "data": {
      "text/html": [
       "<div>\n",
       "<style scoped>\n",
       "    .dataframe tbody tr th:only-of-type {\n",
       "        vertical-align: middle;\n",
       "    }\n",
       "\n",
       "    .dataframe tbody tr th {\n",
       "        vertical-align: top;\n",
       "    }\n",
       "\n",
       "    .dataframe thead th {\n",
       "        text-align: right;\n",
       "    }\n",
       "</style>\n",
       "<table border=\"1\" class=\"dataframe\">\n",
       "  <thead>\n",
       "    <tr style=\"text-align: right;\">\n",
       "      <th></th>\n",
       "      <th>Group</th>\n",
       "      <th>Pageviews</th>\n",
       "      <th>Clicks</th>\n",
       "      <th>Enrollments</th>\n",
       "      <th>Payments</th>\n",
       "    </tr>\n",
       "  </thead>\n",
       "  <tbody>\n",
       "    <tr>\n",
       "      <th>0</th>\n",
       "      <td>Control</td>\n",
       "      <td>345543.0</td>\n",
       "      <td>28378.0</td>\n",
       "      <td>3785.0</td>\n",
       "      <td>2033.0</td>\n",
       "    </tr>\n",
       "    <tr>\n",
       "      <th>1</th>\n",
       "      <td>Experiment</td>\n",
       "      <td>344660.0</td>\n",
       "      <td>28325.0</td>\n",
       "      <td>3423.0</td>\n",
       "      <td>1945.0</td>\n",
       "    </tr>\n",
       "    <tr>\n",
       "      <th>2</th>\n",
       "      <td>Total</td>\n",
       "      <td>690203.0</td>\n",
       "      <td>56703.0</td>\n",
       "      <td>7208.0</td>\n",
       "      <td>3978.0</td>\n",
       "    </tr>\n",
       "  </tbody>\n",
       "</table>\n",
       "</div>"
      ],
      "text/plain": [
       "        Group  Pageviews   Clicks  Enrollments  Payments\n",
       "0     Control   345543.0  28378.0       3785.0    2033.0\n",
       "1  Experiment   344660.0  28325.0       3423.0    1945.0\n",
       "2       Total   690203.0  56703.0       7208.0    3978.0"
      ]
     },
     "execution_count": 25,
     "metadata": {},
     "output_type": "execute_result"
    }
   ],
   "source": [
    "#df_result.iloc[2,0]\n",
    "df_result.iloc[0,1] / df_result.iloc[2,1]\n",
    "\n",
    "df_result.iloc[0,1] / df_result.iloc[2,1]"
   ]
  },
  {
   "cell_type": "code",
   "execution_count": 83,
   "metadata": {},
   "outputs": [
    {
     "data": {
      "text/html": [
       "<div>\n",
       "<style scoped>\n",
       "    .dataframe tbody tr th:only-of-type {\n",
       "        vertical-align: middle;\n",
       "    }\n",
       "\n",
       "    .dataframe tbody tr th {\n",
       "        vertical-align: top;\n",
       "    }\n",
       "\n",
       "    .dataframe thead th {\n",
       "        text-align: right;\n",
       "    }\n",
       "</style>\n",
       "<table border=\"1\" class=\"dataframe\">\n",
       "  <thead>\n",
       "    <tr style=\"text-align: right;\">\n",
       "      <th></th>\n",
       "      <th>Group</th>\n",
       "      <th>Pageviews</th>\n",
       "      <th>Clicks</th>\n",
       "      <th>Enrollments</th>\n",
       "      <th>Payments</th>\n",
       "      <th>Prob_GC</th>\n",
       "      <th>Prob_R</th>\n",
       "      <th>Prob_NC</th>\n",
       "      <th>SD_GC</th>\n",
       "      <th>SD_R</th>\n",
       "      <th>SD_NC</th>\n",
       "      <th>mErr_GC</th>\n",
       "      <th>mErr_R</th>\n",
       "      <th>mErr_NC</th>\n",
       "    </tr>\n",
       "  </thead>\n",
       "  <tbody>\n",
       "    <tr>\n",
       "      <th>2</th>\n",
       "      <td>Total</td>\n",
       "      <td>690203.0</td>\n",
       "      <td>56703.0</td>\n",
       "      <td>7208.0</td>\n",
       "      <td>3978.0</td>\n",
       "      <td>0.1271</td>\n",
       "      <td>0.5519</td>\n",
       "      <td>0.0702</td>\n",
       "      <td>0.0014</td>\n",
       "      <td>0.0079</td>\n",
       "      <td>0.0011</td>\n",
       "      <td>0.0027</td>\n",
       "      <td>0.0155</td>\n",
       "      <td>0.0022</td>\n",
       "    </tr>\n",
       "  </tbody>\n",
       "</table>\n",
       "</div>"
      ],
      "text/plain": [
       "   Group  Pageviews   Clicks  Enrollments  Payments  Prob_GC  Prob_R  Prob_NC  \\\n",
       "2  Total   690203.0  56703.0       7208.0    3978.0   0.1271  0.5519   0.0702   \n",
       "\n",
       "    SD_GC    SD_R   SD_NC  mErr_GC  mErr_R  mErr_NC  \n",
       "2  0.0014  0.0079  0.0011   0.0027  0.0155   0.0022  "
      ]
     },
     "execution_count": 83,
     "metadata": {},
     "output_type": "execute_result"
    }
   ],
   "source": [
    "df_total"
   ]
  },
  {
   "cell_type": "code",
   "execution_count": null,
   "metadata": {},
   "outputs": [],
   "source": []
  },
  {
   "cell_type": "code",
   "execution_count": null,
   "metadata": {},
   "outputs": [],
   "source": []
  },
  {
   "cell_type": "code",
   "execution_count": null,
   "metadata": {},
   "outputs": [],
   "source": []
  }
 ],
 "metadata": {
  "kernelspec": {
   "display_name": "Python 3",
   "language": "python",
   "name": "python3"
  },
  "language_info": {
   "codemirror_mode": {
    "name": "ipython",
    "version": 3
   },
   "file_extension": ".py",
   "mimetype": "text/x-python",
   "name": "python",
   "nbconvert_exporter": "python",
   "pygments_lexer": "ipython3",
   "version": "3.7.8"
  }
 },
 "nbformat": 4,
 "nbformat_minor": 4
}
